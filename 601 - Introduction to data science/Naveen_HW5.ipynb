{
 "cells": [
  {
   "cell_type": "code",
   "execution_count": 1,
   "id": "05500c11",
   "metadata": {},
   "outputs": [
    {
     "data": {
      "text/html": [
       "<div>\n",
       "<style scoped>\n",
       "    .dataframe tbody tr th:only-of-type {\n",
       "        vertical-align: middle;\n",
       "    }\n",
       "\n",
       "    .dataframe tbody tr th {\n",
       "        vertical-align: top;\n",
       "    }\n",
       "\n",
       "    .dataframe thead th {\n",
       "        text-align: right;\n",
       "    }\n",
       "</style>\n",
       "<table border=\"1\" class=\"dataframe\">\n",
       "  <thead>\n",
       "    <tr style=\"text-align: right;\">\n",
       "      <th></th>\n",
       "      <th>School_Rating</th>\n",
       "      <th>House_Area</th>\n",
       "      <th>Lot_Area</th>\n",
       "      <th>Room_No</th>\n",
       "      <th>Bath_No</th>\n",
       "      <th>Garage</th>\n",
       "      <th>Pool</th>\n",
       "      <th>House_Age</th>\n",
       "      <th>Walkability</th>\n",
       "      <th>Crime_Rate</th>\n",
       "      <th>Zipcode</th>\n",
       "      <th>House_Price</th>\n",
       "    </tr>\n",
       "  </thead>\n",
       "  <tbody>\n",
       "    <tr>\n",
       "      <th>0</th>\n",
       "      <td>8</td>\n",
       "      <td>3672</td>\n",
       "      <td>7364</td>\n",
       "      <td>5.0</td>\n",
       "      <td>5.0</td>\n",
       "      <td>1.0</td>\n",
       "      <td>0.0</td>\n",
       "      <td>8</td>\n",
       "      <td>8.0</td>\n",
       "      <td>4</td>\n",
       "      <td>20104</td>\n",
       "      <td>15332000.0</td>\n",
       "    </tr>\n",
       "    <tr>\n",
       "      <th>1</th>\n",
       "      <td>6</td>\n",
       "      <td>1743</td>\n",
       "      <td>3893</td>\n",
       "      <td>2.0</td>\n",
       "      <td>2.0</td>\n",
       "      <td>0.0</td>\n",
       "      <td>0.0</td>\n",
       "      <td>33</td>\n",
       "      <td>5.0</td>\n",
       "      <td>8</td>\n",
       "      <td>20140</td>\n",
       "      <td>6411000.0</td>\n",
       "    </tr>\n",
       "    <tr>\n",
       "      <th>2</th>\n",
       "      <td>8</td>\n",
       "      <td>2242</td>\n",
       "      <td>5199</td>\n",
       "      <td>3.0</td>\n",
       "      <td>3.0</td>\n",
       "      <td>1.0</td>\n",
       "      <td>0.0</td>\n",
       "      <td>34</td>\n",
       "      <td>7.0</td>\n",
       "      <td>6</td>\n",
       "      <td>20182</td>\n",
       "      <td>8931000.0</td>\n",
       "    </tr>\n",
       "    <tr>\n",
       "      <th>3</th>\n",
       "      <td>8</td>\n",
       "      <td>2257</td>\n",
       "      <td>4699</td>\n",
       "      <td>3.0</td>\n",
       "      <td>3.0</td>\n",
       "      <td>0.0</td>\n",
       "      <td>1.0</td>\n",
       "      <td>42</td>\n",
       "      <td>6.0</td>\n",
       "      <td>5</td>\n",
       "      <td>20182</td>\n",
       "      <td>8662000.0</td>\n",
       "    </tr>\n",
       "    <tr>\n",
       "      <th>4</th>\n",
       "      <td>8</td>\n",
       "      <td>2436</td>\n",
       "      <td>5200</td>\n",
       "      <td>3.0</td>\n",
       "      <td>3.0</td>\n",
       "      <td>1.0</td>\n",
       "      <td>0.0</td>\n",
       "      <td>70</td>\n",
       "      <td>7.0</td>\n",
       "      <td>6</td>\n",
       "      <td>20182</td>\n",
       "      <td>9098000.0</td>\n",
       "    </tr>\n",
       "    <tr>\n",
       "      <th>5</th>\n",
       "      <td>6</td>\n",
       "      <td>3306</td>\n",
       "      <td>6911</td>\n",
       "      <td>5.0</td>\n",
       "      <td>4.0</td>\n",
       "      <td>0.0</td>\n",
       "      <td>0.0</td>\n",
       "      <td>45</td>\n",
       "      <td>7.0</td>\n",
       "      <td>6</td>\n",
       "      <td>20174</td>\n",
       "      <td>13208000.0</td>\n",
       "    </tr>\n",
       "    <tr>\n",
       "      <th>6</th>\n",
       "      <td>6</td>\n",
       "      <td>2618</td>\n",
       "      <td>5383</td>\n",
       "      <td>4.0</td>\n",
       "      <td>3.0</td>\n",
       "      <td>1.0</td>\n",
       "      <td>0.0</td>\n",
       "      <td>9</td>\n",
       "      <td>8.0</td>\n",
       "      <td>5</td>\n",
       "      <td>20174</td>\n",
       "      <td>10036000.0</td>\n",
       "    </tr>\n",
       "    <tr>\n",
       "      <th>7</th>\n",
       "      <td>6</td>\n",
       "      <td>3810</td>\n",
       "      <td>7531</td>\n",
       "      <td>5.0</td>\n",
       "      <td>5.0</td>\n",
       "      <td>0.0</td>\n",
       "      <td>0.0</td>\n",
       "      <td>30</td>\n",
       "      <td>5.0</td>\n",
       "      <td>8</td>\n",
       "      <td>20140</td>\n",
       "      <td>15080000.0</td>\n",
       "    </tr>\n",
       "    <tr>\n",
       "      <th>8</th>\n",
       "      <td>6</td>\n",
       "      <td>2366</td>\n",
       "      <td>5008</td>\n",
       "      <td>3.0</td>\n",
       "      <td>2.0</td>\n",
       "      <td>1.0</td>\n",
       "      <td>0.0</td>\n",
       "      <td>28</td>\n",
       "      <td>6.0</td>\n",
       "      <td>6</td>\n",
       "      <td>20174</td>\n",
       "      <td>9093000.0</td>\n",
       "    </tr>\n",
       "    <tr>\n",
       "      <th>9</th>\n",
       "      <td>8</td>\n",
       "      <td>3401</td>\n",
       "      <td>6302</td>\n",
       "      <td>5.0</td>\n",
       "      <td>4.0</td>\n",
       "      <td>0.0</td>\n",
       "      <td>0.0</td>\n",
       "      <td>26</td>\n",
       "      <td>7.0</td>\n",
       "      <td>6</td>\n",
       "      <td>20182</td>\n",
       "      <td>12545000.0</td>\n",
       "    </tr>\n",
       "  </tbody>\n",
       "</table>\n",
       "</div>"
      ],
      "text/plain": [
       "   School_Rating  House_Area  Lot_Area  Room_No  Bath_No  Garage  Pool  \\\n",
       "0              8        3672      7364      5.0      5.0     1.0   0.0   \n",
       "1              6        1743      3893      2.0      2.0     0.0   0.0   \n",
       "2              8        2242      5199      3.0      3.0     1.0   0.0   \n",
       "3              8        2257      4699      3.0      3.0     0.0   1.0   \n",
       "4              8        2436      5200      3.0      3.0     1.0   0.0   \n",
       "5              6        3306      6911      5.0      4.0     0.0   0.0   \n",
       "6              6        2618      5383      4.0      3.0     1.0   0.0   \n",
       "7              6        3810      7531      5.0      5.0     0.0   0.0   \n",
       "8              6        2366      5008      3.0      2.0     1.0   0.0   \n",
       "9              8        3401      6302      5.0      4.0     0.0   0.0   \n",
       "\n",
       "   House_Age  Walkability  Crime_Rate  Zipcode  House_Price  \n",
       "0          8          8.0           4    20104   15332000.0  \n",
       "1         33          5.0           8    20140    6411000.0  \n",
       "2         34          7.0           6    20182    8931000.0  \n",
       "3         42          6.0           5    20182    8662000.0  \n",
       "4         70          7.0           6    20182    9098000.0  \n",
       "5         45          7.0           6    20174   13208000.0  \n",
       "6          9          8.0           5    20174   10036000.0  \n",
       "7         30          5.0           8    20140   15080000.0  \n",
       "8         28          6.0           6    20174    9093000.0  \n",
       "9         26          7.0           6    20182   12545000.0  "
      ]
     },
     "execution_count": 1,
     "metadata": {},
     "output_type": "execute_result"
    }
   ],
   "source": [
    "import numpy as np\n",
    "import pandas as pd\n",
    "import matplotlib.pyplot as plt\n",
    "from matplotlib.pyplot import bar\n",
    "# sklearn stuff\n",
    "from sklearn.metrics import r2_score\n",
    "from sklearn.model_selection import train_test_split\n",
    "from sklearn.feature_selection import SelectKBest\n",
    "from sklearn.feature_selection import chi2\n",
    "from sklearn.linear_model import LinearRegression\n",
    "from sklearn.linear_model import LogisticRegression\n",
    "from sklearn.metrics import mean_absolute_error\n",
    "from sklearn.metrics import mean_squared_error\n",
    "\n",
    "# SM stuff\n",
    "import statsmodels.api as sm\n",
    "import statsmodels.formula.api as smf\n",
    "df = pd.read_csv('https://raw.githubusercontent.com/simsekergun/DATA601/main/2021Fall/datasets/HouseTraining.csv', index_col=0)\n",
    "df.head(10)"
   ]
  },
  {
   "cell_type": "code",
   "execution_count": 2,
   "id": "b484c3a8",
   "metadata": {},
   "outputs": [
    {
     "name": "stdout",
     "output_type": "stream",
     "text": [
      "The Zipcode with highest crime rate is: \n"
     ]
    },
    {
     "data": {
      "text/html": [
       "<div>\n",
       "<style scoped>\n",
       "    .dataframe tbody tr th:only-of-type {\n",
       "        vertical-align: middle;\n",
       "    }\n",
       "\n",
       "    .dataframe tbody tr th {\n",
       "        vertical-align: top;\n",
       "    }\n",
       "\n",
       "    .dataframe thead th {\n",
       "        text-align: right;\n",
       "    }\n",
       "</style>\n",
       "<table border=\"1\" class=\"dataframe\">\n",
       "  <thead>\n",
       "    <tr style=\"text-align: right;\">\n",
       "      <th></th>\n",
       "      <th>average</th>\n",
       "    </tr>\n",
       "    <tr>\n",
       "      <th>Zipcode</th>\n",
       "      <th></th>\n",
       "    </tr>\n",
       "  </thead>\n",
       "  <tbody>\n",
       "    <tr>\n",
       "      <th>20140</th>\n",
       "      <td>6.511905</td>\n",
       "    </tr>\n",
       "  </tbody>\n",
       "</table>\n",
       "</div>"
      ],
      "text/plain": [
       "          average\n",
       "Zipcode          \n",
       "20140    6.511905"
      ]
     },
     "execution_count": 2,
     "metadata": {},
     "output_type": "execute_result"
    }
   ],
   "source": [
    "#1\n",
    "#1.1\n",
    "av = df.groupby('Zipcode').agg(average = ('Crime_Rate','mean'))\n",
    "av\n",
    "hcr = av[av['average']==av['average'].max()]\n",
    "print(\"The Zipcode with highest crime rate is: \")\n",
    "hcr"
   ]
  },
  {
   "cell_type": "code",
   "execution_count": 3,
   "id": "282d46bf",
   "metadata": {},
   "outputs": [
    {
     "name": "stdout",
     "output_type": "stream",
     "text": [
      "The Zipcode with lowest average house price rate is: \n"
     ]
    },
    {
     "data": {
      "text/html": [
       "<div>\n",
       "<style scoped>\n",
       "    .dataframe tbody tr th:only-of-type {\n",
       "        vertical-align: middle;\n",
       "    }\n",
       "\n",
       "    .dataframe tbody tr th {\n",
       "        vertical-align: top;\n",
       "    }\n",
       "\n",
       "    .dataframe thead th {\n",
       "        text-align: right;\n",
       "    }\n",
       "</style>\n",
       "<table border=\"1\" class=\"dataframe\">\n",
       "  <thead>\n",
       "    <tr style=\"text-align: right;\">\n",
       "      <th></th>\n",
       "      <th>average</th>\n",
       "    </tr>\n",
       "    <tr>\n",
       "      <th>Zipcode</th>\n",
       "      <th></th>\n",
       "    </tr>\n",
       "  </thead>\n",
       "  <tbody>\n",
       "    <tr>\n",
       "      <th>20140</th>\n",
       "      <td>1.030618e+07</td>\n",
       "    </tr>\n",
       "  </tbody>\n",
       "</table>\n",
       "</div>"
      ],
      "text/plain": [
       "              average\n",
       "Zipcode              \n",
       "20140    1.030618e+07"
      ]
     },
     "execution_count": 3,
     "metadata": {},
     "output_type": "execute_result"
    }
   ],
   "source": [
    "#1.2\n",
    "ahp = df.groupby('Zipcode').agg(average = ('House_Price','mean'))\n",
    "ahp\n",
    "lahp = ahp[ahp['average']==ahp['average'].min()]\n",
    "print(\"The Zipcode with lowest average house price rate is: \")\n",
    "lahp"
   ]
  },
  {
   "cell_type": "code",
   "execution_count": 4,
   "id": "fabb5e3c",
   "metadata": {},
   "outputs": [
    {
     "data": {
      "text/html": [
       "<div>\n",
       "<style scoped>\n",
       "    .dataframe tbody tr th:only-of-type {\n",
       "        vertical-align: middle;\n",
       "    }\n",
       "\n",
       "    .dataframe tbody tr th {\n",
       "        vertical-align: top;\n",
       "    }\n",
       "\n",
       "    .dataframe thead th {\n",
       "        text-align: right;\n",
       "    }\n",
       "</style>\n",
       "<table border=\"1\" class=\"dataframe\">\n",
       "  <thead>\n",
       "    <tr style=\"text-align: right;\">\n",
       "      <th></th>\n",
       "      <th>School_Rating</th>\n",
       "      <th>House_Area</th>\n",
       "      <th>Lot_Area</th>\n",
       "      <th>Room_No</th>\n",
       "      <th>Bath_No</th>\n",
       "      <th>Garage</th>\n",
       "      <th>Pool</th>\n",
       "      <th>House_Age</th>\n",
       "      <th>Walkability</th>\n",
       "      <th>Crime_Rate</th>\n",
       "      <th>Zipcode</th>\n",
       "      <th>House_Price</th>\n",
       "    </tr>\n",
       "  </thead>\n",
       "  <tbody>\n",
       "    <tr>\n",
       "      <th>School_Rating</th>\n",
       "      <td>1.000000</td>\n",
       "      <td>0.003273</td>\n",
       "      <td>-0.012608</td>\n",
       "      <td>0.005996</td>\n",
       "      <td>0.011234</td>\n",
       "      <td>0.016915</td>\n",
       "      <td>0.001310</td>\n",
       "      <td>-0.114875</td>\n",
       "      <td>0.373675</td>\n",
       "      <td>-0.651958</td>\n",
       "      <td>-0.402891</td>\n",
       "      <td>0.081382</td>\n",
       "    </tr>\n",
       "    <tr>\n",
       "      <th>House_Area</th>\n",
       "      <td>0.003273</td>\n",
       "      <td>1.000000</td>\n",
       "      <td>0.692192</td>\n",
       "      <td>0.956632</td>\n",
       "      <td>0.864089</td>\n",
       "      <td>0.126806</td>\n",
       "      <td>0.038590</td>\n",
       "      <td>0.003496</td>\n",
       "      <td>-0.001421</td>\n",
       "      <td>0.004005</td>\n",
       "      <td>0.050490</td>\n",
       "      <td>0.927668</td>\n",
       "    </tr>\n",
       "    <tr>\n",
       "      <th>Lot_Area</th>\n",
       "      <td>-0.012608</td>\n",
       "      <td>0.692192</td>\n",
       "      <td>1.000000</td>\n",
       "      <td>0.663507</td>\n",
       "      <td>0.628391</td>\n",
       "      <td>0.066005</td>\n",
       "      <td>0.039591</td>\n",
       "      <td>0.003279</td>\n",
       "      <td>0.041527</td>\n",
       "      <td>-0.028160</td>\n",
       "      <td>0.020762</td>\n",
       "      <td>0.875865</td>\n",
       "    </tr>\n",
       "    <tr>\n",
       "      <th>Room_No</th>\n",
       "      <td>0.005996</td>\n",
       "      <td>0.956632</td>\n",
       "      <td>0.663507</td>\n",
       "      <td>1.000000</td>\n",
       "      <td>0.899354</td>\n",
       "      <td>0.160627</td>\n",
       "      <td>0.058216</td>\n",
       "      <td>-0.012671</td>\n",
       "      <td>0.022116</td>\n",
       "      <td>-0.007340</td>\n",
       "      <td>0.018870</td>\n",
       "      <td>0.892501</td>\n",
       "    </tr>\n",
       "    <tr>\n",
       "      <th>Bath_No</th>\n",
       "      <td>0.011234</td>\n",
       "      <td>0.864089</td>\n",
       "      <td>0.628391</td>\n",
       "      <td>0.899354</td>\n",
       "      <td>1.000000</td>\n",
       "      <td>0.126592</td>\n",
       "      <td>0.054423</td>\n",
       "      <td>-0.001166</td>\n",
       "      <td>0.006643</td>\n",
       "      <td>-0.015384</td>\n",
       "      <td>-0.007733</td>\n",
       "      <td>0.816760</td>\n",
       "    </tr>\n",
       "    <tr>\n",
       "      <th>Garage</th>\n",
       "      <td>0.016915</td>\n",
       "      <td>0.126806</td>\n",
       "      <td>0.066005</td>\n",
       "      <td>0.160627</td>\n",
       "      <td>0.126592</td>\n",
       "      <td>1.000000</td>\n",
       "      <td>-0.003750</td>\n",
       "      <td>-0.048396</td>\n",
       "      <td>0.021130</td>\n",
       "      <td>-0.028996</td>\n",
       "      <td>-0.075111</td>\n",
       "      <td>0.124467</td>\n",
       "    </tr>\n",
       "    <tr>\n",
       "      <th>Pool</th>\n",
       "      <td>0.001310</td>\n",
       "      <td>0.038590</td>\n",
       "      <td>0.039591</td>\n",
       "      <td>0.058216</td>\n",
       "      <td>0.054423</td>\n",
       "      <td>-0.003750</td>\n",
       "      <td>1.000000</td>\n",
       "      <td>-0.003237</td>\n",
       "      <td>-0.052538</td>\n",
       "      <td>-0.014438</td>\n",
       "      <td>-0.014279</td>\n",
       "      <td>0.057346</td>\n",
       "    </tr>\n",
       "    <tr>\n",
       "      <th>House_Age</th>\n",
       "      <td>-0.114875</td>\n",
       "      <td>0.003496</td>\n",
       "      <td>0.003279</td>\n",
       "      <td>-0.012671</td>\n",
       "      <td>-0.001166</td>\n",
       "      <td>-0.048396</td>\n",
       "      <td>-0.003237</td>\n",
       "      <td>1.000000</td>\n",
       "      <td>-0.087509</td>\n",
       "      <td>0.065937</td>\n",
       "      <td>0.102555</td>\n",
       "      <td>-0.016291</td>\n",
       "    </tr>\n",
       "    <tr>\n",
       "      <th>Walkability</th>\n",
       "      <td>0.373675</td>\n",
       "      <td>-0.001421</td>\n",
       "      <td>0.041527</td>\n",
       "      <td>0.022116</td>\n",
       "      <td>0.006643</td>\n",
       "      <td>0.021130</td>\n",
       "      <td>-0.052538</td>\n",
       "      <td>-0.087509</td>\n",
       "      <td>1.000000</td>\n",
       "      <td>-0.597465</td>\n",
       "      <td>-0.191964</td>\n",
       "      <td>0.099872</td>\n",
       "    </tr>\n",
       "    <tr>\n",
       "      <th>Crime_Rate</th>\n",
       "      <td>-0.651958</td>\n",
       "      <td>0.004005</td>\n",
       "      <td>-0.028160</td>\n",
       "      <td>-0.007340</td>\n",
       "      <td>-0.015384</td>\n",
       "      <td>-0.028996</td>\n",
       "      <td>-0.014438</td>\n",
       "      <td>0.065937</td>\n",
       "      <td>-0.597465</td>\n",
       "      <td>1.000000</td>\n",
       "      <td>0.270189</td>\n",
       "      <td>-0.142806</td>\n",
       "    </tr>\n",
       "    <tr>\n",
       "      <th>Zipcode</th>\n",
       "      <td>-0.402891</td>\n",
       "      <td>0.050490</td>\n",
       "      <td>0.020762</td>\n",
       "      <td>0.018870</td>\n",
       "      <td>-0.007733</td>\n",
       "      <td>-0.075111</td>\n",
       "      <td>-0.014279</td>\n",
       "      <td>0.102555</td>\n",
       "      <td>-0.191964</td>\n",
       "      <td>0.270189</td>\n",
       "      <td>1.000000</td>\n",
       "      <td>-0.008307</td>\n",
       "    </tr>\n",
       "    <tr>\n",
       "      <th>House_Price</th>\n",
       "      <td>0.081382</td>\n",
       "      <td>0.927668</td>\n",
       "      <td>0.875865</td>\n",
       "      <td>0.892501</td>\n",
       "      <td>0.816760</td>\n",
       "      <td>0.124467</td>\n",
       "      <td>0.057346</td>\n",
       "      <td>-0.016291</td>\n",
       "      <td>0.099872</td>\n",
       "      <td>-0.142806</td>\n",
       "      <td>-0.008307</td>\n",
       "      <td>1.000000</td>\n",
       "    </tr>\n",
       "  </tbody>\n",
       "</table>\n",
       "</div>"
      ],
      "text/plain": [
       "               School_Rating  House_Area  Lot_Area   Room_No   Bath_No  \\\n",
       "School_Rating       1.000000    0.003273 -0.012608  0.005996  0.011234   \n",
       "House_Area          0.003273    1.000000  0.692192  0.956632  0.864089   \n",
       "Lot_Area           -0.012608    0.692192  1.000000  0.663507  0.628391   \n",
       "Room_No             0.005996    0.956632  0.663507  1.000000  0.899354   \n",
       "Bath_No             0.011234    0.864089  0.628391  0.899354  1.000000   \n",
       "Garage              0.016915    0.126806  0.066005  0.160627  0.126592   \n",
       "Pool                0.001310    0.038590  0.039591  0.058216  0.054423   \n",
       "House_Age          -0.114875    0.003496  0.003279 -0.012671 -0.001166   \n",
       "Walkability         0.373675   -0.001421  0.041527  0.022116  0.006643   \n",
       "Crime_Rate         -0.651958    0.004005 -0.028160 -0.007340 -0.015384   \n",
       "Zipcode            -0.402891    0.050490  0.020762  0.018870 -0.007733   \n",
       "House_Price         0.081382    0.927668  0.875865  0.892501  0.816760   \n",
       "\n",
       "                 Garage      Pool  House_Age  Walkability  Crime_Rate  \\\n",
       "School_Rating  0.016915  0.001310  -0.114875     0.373675   -0.651958   \n",
       "House_Area     0.126806  0.038590   0.003496    -0.001421    0.004005   \n",
       "Lot_Area       0.066005  0.039591   0.003279     0.041527   -0.028160   \n",
       "Room_No        0.160627  0.058216  -0.012671     0.022116   -0.007340   \n",
       "Bath_No        0.126592  0.054423  -0.001166     0.006643   -0.015384   \n",
       "Garage         1.000000 -0.003750  -0.048396     0.021130   -0.028996   \n",
       "Pool          -0.003750  1.000000  -0.003237    -0.052538   -0.014438   \n",
       "House_Age     -0.048396 -0.003237   1.000000    -0.087509    0.065937   \n",
       "Walkability    0.021130 -0.052538  -0.087509     1.000000   -0.597465   \n",
       "Crime_Rate    -0.028996 -0.014438   0.065937    -0.597465    1.000000   \n",
       "Zipcode       -0.075111 -0.014279   0.102555    -0.191964    0.270189   \n",
       "House_Price    0.124467  0.057346  -0.016291     0.099872   -0.142806   \n",
       "\n",
       "                Zipcode  House_Price  \n",
       "School_Rating -0.402891     0.081382  \n",
       "House_Area     0.050490     0.927668  \n",
       "Lot_Area       0.020762     0.875865  \n",
       "Room_No        0.018870     0.892501  \n",
       "Bath_No       -0.007733     0.816760  \n",
       "Garage        -0.075111     0.124467  \n",
       "Pool          -0.014279     0.057346  \n",
       "House_Age      0.102555    -0.016291  \n",
       "Walkability   -0.191964     0.099872  \n",
       "Crime_Rate     0.270189    -0.142806  \n",
       "Zipcode        1.000000    -0.008307  \n",
       "House_Price   -0.008307     1.000000  "
      ]
     },
     "execution_count": 4,
     "metadata": {},
     "output_type": "execute_result"
    }
   ],
   "source": [
    "#1.3\n",
    "df.corr()"
   ]
  },
  {
   "cell_type": "code",
   "execution_count": 5,
   "id": "aa3ef0bf",
   "metadata": {},
   "outputs": [
    {
     "name": "stdout",
     "output_type": "stream",
     "text": [
      "With Respect to the above output it is clear that Walkability feature has strongest correlation with School_Rating\n"
     ]
    }
   ],
   "source": [
    "print(\"With Respect to the above output it is clear that Walkability feature has strongest correlation with School_Rating\")"
   ]
  },
  {
   "cell_type": "code",
   "execution_count": 6,
   "id": "b1fe6227",
   "metadata": {},
   "outputs": [
    {
     "name": "stdout",
     "output_type": "stream",
     "text": [
      "max_relative_error (%): 8.646444337900096\n",
      "0.9774507111556615\n"
     ]
    }
   ],
   "source": [
    "#1.4\n",
    "import numpy as np\n",
    "x = df[['School_Rating','House_Area','Lot_Area','Room_No','Bath_No','Garage','Pool','House_Age','Walkability','Crime_Rate','Zipcode']]\n",
    "y= df['House_Price']\n",
    "X_train, X_test, Y_train, Y_test = train_test_split(x, y, test_size=0.2, random_state=1)\n",
    "reg_model = LinearRegression()\n",
    "reg_model.fit(X_train,Y_train)\n",
    "predict_Y = reg_model.predict(X_test)\n",
    "max_relative_error = np.amax(np.absolute(Y_test-predict_Y)/(np.amax(Y_test)-np.amin(Y_test)))\n",
    "print('max_relative_error (%):', 100*max_relative_error)\n",
    "\n",
    "r2 = r2_score(Y_test,predict_Y)\n",
    "print(r2)"
   ]
  },
  {
   "cell_type": "code",
   "execution_count": 7,
   "id": "dd501fbe",
   "metadata": {},
   "outputs": [
    {
     "name": "stdout",
     "output_type": "stream",
     "text": [
      "[ 8561819.44871833  8980294.32638027 12881526.36890045  8599287.43466797\n",
      " 10511332.01790485 12921742.59768683 10019012.08221002 11708426.88573512\n",
      " 13117137.55306432  6771455.75731302]\n"
     ]
    }
   ],
   "source": [
    "#1.5\n",
    "df2 = pd.read_csv(\"https://raw.githubusercontent.com/simsekergun/DATA601/main/2021Fall/datasets/HouseTest.csv\",index_col=0)\n",
    "predict_Y2 = reg_model.predict(df2)\n",
    "print(predict_Y2)"
   ]
  },
  {
   "cell_type": "code",
   "execution_count": 8,
   "id": "98b646c6",
   "metadata": {},
   "outputs": [
    {
     "name": "stderr",
     "output_type": "stream",
     "text": [
      "F:\\Software\\Anaconda\\lib\\site-packages\\openpyxl\\styles\\stylesheet.py:221: UserWarning: Workbook contains no default style, apply openpyxl's default\n",
      "  warn(\"Workbook contains no default style, apply openpyxl's default\")\n"
     ]
    }
   ],
   "source": [
    "#2\n",
    "dfm = pd.read_excel('https://github.com/simsekergun/DATA601/blob/main/2021Fall/datasets/Default.xlsx?raw=true',index_col=[0]) \n",
    "dfm.head()\n",
    "dfm['default'] = dfm.default.factorize()[0]\n",
    "dfm['student'] = dfm.student.factorize()[0]"
   ]
  },
  {
   "cell_type": "code",
   "execution_count": 9,
   "id": "3d29808b",
   "metadata": {},
   "outputs": [
    {
     "data": {
      "text/plain": [
       "array([[<AxesSubplot:title={'center':'default'}>,\n",
       "        <AxesSubplot:title={'center':'student'}>],\n",
       "       [<AxesSubplot:title={'center':'balance'}>,\n",
       "        <AxesSubplot:title={'center':'income'}>]], dtype=object)"
      ]
     },
     "execution_count": 9,
     "metadata": {},
     "output_type": "execute_result"
    },
    {
     "data": {
      "image/png": "[encoded data removed]",
      "text/plain": [
       "<Figure size 432x288 with 4 Axes>"
      ]
     },
     "metadata": {
      "needs_background": "light"
     },
     "output_type": "display_data"
    }
   ],
   "source": [
    "#2.1\n",
    "dfm.hist()"
   ]
  },
  {
   "cell_type": "code",
   "execution_count": 10,
   "id": "3de970c7",
   "metadata": {},
   "outputs": [
    {
     "data": {
      "text/plain": [
       "Index(['default', 'student', 'balance', 'income'], dtype='object')"
      ]
     },
     "execution_count": 10,
     "metadata": {},
     "output_type": "execute_result"
    }
   ],
   "source": [
    "dfm.columns"
   ]
  },
  {
   "cell_type": "code",
   "execution_count": 11,
   "id": "4a8218a9",
   "metadata": {},
   "outputs": [
    {
     "data": {
      "text/plain": [
       "<AxesSubplot:>"
      ]
     },
     "execution_count": 11,
     "metadata": {},
     "output_type": "execute_result"
    },
    {
     "data": {
      "image/png": "[encoded data removed]",
      "text/plain": [
       "<Figure size 432x288 with 1 Axes>"
      ]
     },
     "metadata": {
      "needs_background": "light"
     },
     "output_type": "display_data"
    }
   ],
   "source": [
    "dfm.boxplot(column=['default','income'])"
   ]
  },
  {
   "cell_type": "code",
   "execution_count": 12,
   "id": "0103a566",
   "metadata": {},
   "outputs": [
    {
     "data": {
      "text/plain": [
       "<AxesSubplot:>"
      ]
     },
     "execution_count": 12,
     "metadata": {},
     "output_type": "execute_result"
    },
    {
     "data": {
      "image/png": "[encoded data removed]",
      "text/plain": [
       "<Figure size 432x288 with 1 Axes>"
      ]
     },
     "metadata": {
      "needs_background": "light"
     },
     "output_type": "display_data"
    }
   ],
   "source": [
    "dfm.boxplot(column=['default','balance'])"
   ]
  },
  {
   "cell_type": "code",
   "execution_count": 13,
   "id": "a09c9fce",
   "metadata": {},
   "outputs": [
    {
     "name": "stdout",
     "output_type": "stream",
     "text": [
      "Confusion Matrix : \n",
      " [[1930   11]\n",
      " [  40   19]]\n",
      "Accuracy :  0.9745\n",
      "Sensitivity :  0.994332818134982\n",
      "Specificity :  0.3220338983050847\n"
     ]
    }
   ],
   "source": [
    "from sklearn.metrics import confusion_matrix\n",
    "x = dfm.loc[:,['balance']].values\n",
    "y = dfm.loc[:,'default'].values\n",
    "X_train, X_test, y_train, y_test = train_test_split(x, y, test_size=0.2, random_state=1)\n",
    "logreg = LogisticRegression()\n",
    "logreg.fit(X_train, y_train)\n",
    "logreg.score(X_test, y_test)\n",
    "y_predict = logreg.predict(X_test)\n",
    "cm1 = confusion_matrix(y_test,y_predict)\n",
    "print('Confusion Matrix : \\n', cm1)\n",
    "total1=sum(sum(cm1))\n",
    "accuracy1=(cm1[0,0]+cm1[1,1])/total1\n",
    "print ('Accuracy : ', accuracy1)\n",
    "\n",
    "sensitivity1 = cm1[0,0]/(cm1[0,0]+cm1[0,1])\n",
    "print('Sensitivity : ', sensitivity1 )\n",
    "\n",
    "specificity1 = cm1[1,1]/(cm1[1,0]+cm1[1,1])\n",
    "print('Specificity : ', specificity1)"
   ]
  },
  {
   "cell_type": "code",
   "execution_count": 14,
   "id": "2f85b37a",
   "metadata": {},
   "outputs": [
    {
     "name": "stdout",
     "output_type": "stream",
     "text": [
      "Confusion Matrix : \n",
      " [[1924   17]\n",
      " [  49   10]]\n",
      "Accuracy :  0.967\n",
      "Sensitivity :  0.9912416280267903\n",
      "Specificity :  0.1694915254237288\n"
     ]
    }
   ],
   "source": [
    "#2.4\n",
    "x = dfm.drop(\"default\",axis=1)\n",
    "y = dfm['default']\n",
    "X_train, X_test, y_train, y_test = train_test_split(x, y, test_size=0.2, random_state=1)\n",
    "logreg = LogisticRegression()\n",
    "logreg.fit(X_train, y_train)\n",
    "logreg.score(X_test, y_test)\n",
    "y_predict = logreg.predict(X_test)\n",
    "cm2 = confusion_matrix(y_test,y_predict)\n",
    "print('Confusion Matrix : \\n', cm2)\n",
    "total1=sum(sum(cm2))\n",
    "#####from confusion matrix calculate accuracy\n",
    "accuracy1=(cm2[0,0]+cm2[1,1])/total1\n",
    "print ('Accuracy : ', accuracy1)\n",
    "\n",
    "sensitivity1 = cm2[0,0]/(cm2[0,0]+cm2[0,1])\n",
    "print('Sensitivity : ', sensitivity1 )\n",
    "\n",
    "specificity1 = cm2[1,1]/(cm2[1,0]+cm2[1,1])\n",
    "print('Specificity : ', specificity1)"
   ]
  },
  {
   "cell_type": "code",
   "execution_count": 15,
   "id": "a4011a2b",
   "metadata": {},
   "outputs": [],
   "source": [
    "#2.5\n",
    "#High sensitivity means there are less chances of false negative results and a low specific test means that there are more chances of false positive results."
   ]
  }
 ],
 "metadata": {
  "kernelspec": {
   "display_name": "Python 3",
   "language": "python",
   "name": "python3"
  },
  "language_info": {
   "codemirror_mode": {
    "name": "ipython",
    "version": 3
   },
   "file_extension": ".py",
   "mimetype": "text/x-python",
   "name": "python",
   "nbconvert_exporter": "python",
   "pygments_lexer": "ipython3",
   "version": "3.8.8"
  }
 },
 "nbformat": 4,
 "nbformat_minor": 5
}
